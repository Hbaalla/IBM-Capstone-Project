{
 "cells": [
  {
   "cell_type": "markdown",
   "metadata": {
    "collapsed": true
   },
   "source": [
    "# 1. Introduction/business problem\n",
    "\n",
    "## In this report I would like to introduce the business problem which lied at the bases of my final capstone project.\n",
    "\n",
    "### The setting is as follows: you are a wealthy man in Toronto with the drive to start a business. But you are lacking in creativity. So how do you know what kind of business to start? You know one thing for sure, and that is: YOU ARE CRAZY ABOUT VENUES. Since you were a little kid you were always fascinated by all kinds of venues. Be them, libraries, mexican food restaurants, or a park where you would feed the ducks. \n",
    "\n",
    "### So you know what you gonna do with that bag of money you've saved up. You gonna start a venue for sure. But a smart man thinks ahead. What's the competition like in the venue branch here in Toronto? What kind of venue categories exist in Toronto, and what are the top venues based on number of individual venue? And in which borough and neighbourhood do you need to settle?\n",
    "\n",
    "### So many questions and there is no clarity. Lucky for you, there are people like data scientist who know exactly how to get rid of the fog in your head, so you could see a crystal clear picture of your future venue business.\" What you want to know is wat the most frequent venues are in the Toronto neighbourhoods. This can help you get inspiration to start your own venue business, as well as gaining an insight in the competition. And this can also help you decide in which neighbourhood to start."
   ]
  },
  {
   "cell_type": "markdown",
   "metadata": {},
   "source": [
    "# 2. Data to use\n",
    "\n",
    "### I will be using the data from the wikipedia link which contains the html table of the Postal Code, Borough and Neighbourhoods from the city of Toronto in Canada. I will also use the latitude and longitude data which was provided in the previous peer graded assignment. And I will use the Foursquare API to query relevant information of the neighbours and boroughs in Toronto."
   ]
  },
  {
   "cell_type": "markdown",
   "metadata": {},
   "source": [
    "# 3. Methodology\n",
    "\n",
    "### I started the code by importing all the necessary packages such as pandas and numpy as wel as the other libraries needed for my analysis. Then I imported the Toronto city data from a wikipedia link. This data contained boroughs, neighbourhoods etc. I imported them using the pandas.read_html code. Afterwards I turned the html table into a pandas dataframe for analysis.\n",
    "\n",
    "### I then cleaned the data and got rid of the not assigned/empty cells. This was done using the code which you will see in the github code page. I removed all the cells which did not have a borough assigned. I also removed a column['Postal Code'] since I would not be using that column in my analysis. I then appenden the latitude and longitude info through the df.join code.\n",
    "\n",
    "### I then assigned the Client ID and Secret and Acces Token and the version info so I could use them when making url's to query info from Foursquare. I then did some testing with the Victoria Village neighbourhood in Toronto to see if the code was working. I inquired som info about nearby venues within a 500 meter radius of the neighbourhood.\n",
    "\n",
    "### I then assigned a function which would extract category information for each venue. This is important as the goal of this assigment was to find out about the different venues in Toronto neighbourhoods. So the function helped me categorize all the differint venues in Toronto into a set amount of categories, in total 265.\n",
    "\n",
    "### I had also put in a funtion to retrieve venues within a 500 meter radius, for all the neighbourhoods in Toronto. This helped me save a lot of time since doing it manually would take to long. The function is the getNearbyVenues function which you will see in the code.\n",
    "\n",
    "### When all the necessary info was retrieved I created a dataframe so as to do more analysis and manipulation of the data. I also used one hot encoding to create a frame with all the 265 different categories of venues. I then used the mean of the different venues in Toronto and assigned them to the categories. And I grouped the venues by neighbourhood. This made the dataframe a lot more compact. \n",
    "\n",
    "### I then proceeded to extract the top 5 venues in Toronto grouped by neighbourhood. I also put in code to see the top 7 most common venuecategories. And I used k means to merge the hoods into 5 clusters.\n",
    "\n",
    "### For more detailed information see the markdown comments which I put into the codenotebook.\n",
    "\n"
   ]
  },
  {
   "cell_type": "markdown",
   "metadata": {},
   "source": [
    "# 4. Results\n",
    "\n",
    "### The result was a nice dataframe with the information about the most common venues by category in each of the Toronto neighbourhoods. For Parkwoods the most common venue was a Food&Drink Shop. For Victoria Village the most common venue was a Hockey Arena. For Regent Park,Harboufront the most common venue was a Coffee Shop. For parkwoods the most common venue was a Food&Drink Shop. For Lawrence Manor,Lawrance Heights the most common venue was a Clothing Store. And for Queens Park the most common venue was a Coffee Shop.    "
   ]
  },
  {
   "cell_type": "markdown",
   "metadata": {},
   "source": [
    "# 5. Dicussion and Recommendation\n",
    "\n",
    "### I recommend the valueholder to start a business in one of these venues, since these are the most common venues. This means a lot of people visit these stores and there is some money flowing in these venues."
   ]
  },
  {
   "cell_type": "markdown",
   "metadata": {},
   "source": [
    "# 6. Conclusion\n",
    "\n",
    "### This is the end of my report. It was a fun time writing code in Python and following courses in IBM."
   ]
  },
  {
   "cell_type": "code",
   "execution_count": null,
   "metadata": {},
   "outputs": [],
   "source": []
  }
 ],
 "metadata": {
  "kernelspec": {
   "display_name": "Python 3.7",
   "language": "python",
   "name": "python3"
  },
  "language_info": {
   "codemirror_mode": {
    "name": "ipython",
    "version": 3
   },
   "file_extension": ".py",
   "mimetype": "text/x-python",
   "name": "python",
   "nbconvert_exporter": "python",
   "pygments_lexer": "ipython3",
   "version": "3.7.9"
  }
 },
 "nbformat": 4,
 "nbformat_minor": 1
}
